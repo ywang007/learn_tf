{
 "cells": [
  {
   "cell_type": "code",
   "execution_count": 2,
   "id": "1c75067e",
   "metadata": {},
   "outputs": [],
   "source": [
    "import numpy as np\n",
    "\n",
    "%matplotlib inline\n",
    "import matplotlib.pyplot as plt\n",
    "\n",
    "import pandas as pd"
   ]
  },
  {
   "cell_type": "code",
   "execution_count": 3,
   "id": "5fd303ae",
   "metadata": {},
   "outputs": [],
   "source": [
    "original_df = pd.read_csv('./311-DSNY-20151017.csv')"
   ]
  },
  {
   "cell_type": "code",
   "execution_count": 4,
   "id": "a168203b",
   "metadata": {},
   "outputs": [
    {
     "name": "stdout",
     "output_type": "stream",
     "text": [
      "<class 'pandas.core.frame.DataFrame'>\n",
      "RangeIndex: 576487 entries, 0 to 576486\n",
      "Data columns (total 41 columns):\n",
      " #   Column                          Non-Null Count   Dtype  \n",
      "---  ------                          --------------   -----  \n",
      " 0   Unique Key                      576487 non-null  int64  \n",
      " 1   Created Date                    576487 non-null  object \n",
      " 2   Closed Date                     570242 non-null  object \n",
      " 3   Agency                          576487 non-null  object \n",
      " 4   Agency Name                     576487 non-null  object \n",
      " 5   Complaint Type                  576487 non-null  object \n",
      " 6   Descriptor                      576487 non-null  object \n",
      " 7   Location Type                   567793 non-null  object \n",
      " 8   Incident Zip                    563201 non-null  float64\n",
      " 9   Incident Address                488832 non-null  object \n",
      " 10  Street Name                     488832 non-null  object \n",
      " 11  Cross Street 1                  435445 non-null  object \n",
      " 12  Cross Street 2                  413476 non-null  object \n",
      " 13  Intersection Street 1           84745 non-null   object \n",
      " 14  Intersection Street 2           84745 non-null   object \n",
      " 15  Address Type                    573541 non-null  object \n",
      " 16  City                            563252 non-null  object \n",
      " 17  Landmark                        0 non-null       float64\n",
      " 18  Facility Type                   221688 non-null  object \n",
      " 19  Status                          576487 non-null  object \n",
      " 20  Due Date                        42560 non-null   object \n",
      " 21  Resolution Description          527244 non-null  object \n",
      " 22  Resolution Action Updated Date  574641 non-null  object \n",
      " 23  Community Board                 574899 non-null  object \n",
      " 24  BBL                             458984 non-null  float64\n",
      " 25  Borough                         574899 non-null  object \n",
      " 26  X Coordinate (State Plane)      562693 non-null  float64\n",
      " 27  Y Coordinate (State Plane)      562693 non-null  float64\n",
      " 28  Open Data Channel Type          576487 non-null  object \n",
      " 29  Park Facility Name              576487 non-null  object \n",
      " 30  Park Borough                    574899 non-null  object \n",
      " 31  Vehicle Type                    0 non-null       float64\n",
      " 32  Taxi Company Borough            0 non-null       float64\n",
      " 33  Taxi Pick Up Location           0 non-null       float64\n",
      " 34  Bridge Highway Name             0 non-null       float64\n",
      " 35  Bridge Highway Direction        0 non-null       float64\n",
      " 36  Road Ramp                       0 non-null       float64\n",
      " 37  Bridge Highway Segment          0 non-null       float64\n",
      " 38  Latitude                        562693 non-null  float64\n",
      " 39  Longitude                       562693 non-null  float64\n",
      " 40  Location                        562693 non-null  object \n",
      "dtypes: float64(14), int64(1), object(26)\n",
      "memory usage: 180.3+ MB\n"
     ]
    }
   ],
   "source": [
    "original_df.info()"
   ]
  },
  {
   "cell_type": "code",
   "execution_count": 5,
   "id": "5bd074f7",
   "metadata": {
    "scrolled": true
   },
   "outputs": [],
   "source": [
    "# drop the all-null columns\n",
    "df = original_df.drop(['Landmark', 'Vehicle Type', 'Taxi Company Borough', 'Taxi Pick Up Location', 'Bridge Highway Name', 'Bridge Highway Direction', 'Road Ramp', 'Bridge Highway Segment'], axis=1)"
   ]
  },
  {
   "cell_type": "markdown",
   "id": "5913d6b8",
   "metadata": {},
   "source": [
    "# examine categorical columns"
   ]
  },
  {
   "cell_type": "code",
   "execution_count": 6,
   "id": "cb81da70",
   "metadata": {},
   "outputs": [
    {
     "name": "stdout",
     "output_type": "stream",
     "text": [
      "<class 'pandas.core.frame.DataFrame'>\n",
      "RangeIndex: 576487 entries, 0 to 576486\n",
      "Data columns (total 33 columns):\n",
      " #   Column                          Non-Null Count   Dtype  \n",
      "---  ------                          --------------   -----  \n",
      " 0   Unique Key                      576487 non-null  int64  \n",
      " 1   Created Date                    576487 non-null  object \n",
      " 2   Closed Date                     570242 non-null  object \n",
      " 3   Agency                          576487 non-null  object \n",
      " 4   Agency Name                     576487 non-null  object \n",
      " 5   Complaint Type                  576487 non-null  object \n",
      " 6   Descriptor                      576487 non-null  object \n",
      " 7   Location Type                   567793 non-null  object \n",
      " 8   Incident Zip                    563201 non-null  float64\n",
      " 9   Incident Address                488832 non-null  object \n",
      " 10  Street Name                     488832 non-null  object \n",
      " 11  Cross Street 1                  435445 non-null  object \n",
      " 12  Cross Street 2                  413476 non-null  object \n",
      " 13  Intersection Street 1           84745 non-null   object \n",
      " 14  Intersection Street 2           84745 non-null   object \n",
      " 15  Address Type                    573541 non-null  object \n",
      " 16  City                            563252 non-null  object \n",
      " 17  Facility Type                   221688 non-null  object \n",
      " 18  Status                          576487 non-null  object \n",
      " 19  Due Date                        42560 non-null   object \n",
      " 20  Resolution Description          527244 non-null  object \n",
      " 21  Resolution Action Updated Date  574641 non-null  object \n",
      " 22  Community Board                 574899 non-null  object \n",
      " 23  BBL                             458984 non-null  float64\n",
      " 24  Borough                         574899 non-null  object \n",
      " 25  X Coordinate (State Plane)      562693 non-null  float64\n",
      " 26  Y Coordinate (State Plane)      562693 non-null  float64\n",
      " 27  Open Data Channel Type          576487 non-null  object \n",
      " 28  Park Facility Name              576487 non-null  object \n",
      " 29  Park Borough                    574899 non-null  object \n",
      " 30  Latitude                        562693 non-null  float64\n",
      " 31  Longitude                       562693 non-null  float64\n",
      " 32  Location                        562693 non-null  object \n",
      "dtypes: float64(6), int64(1), object(26)\n",
      "memory usage: 145.1+ MB\n"
     ]
    }
   ],
   "source": [
    "df.info()"
   ]
  },
  {
   "cell_type": "code",
   "execution_count": 7,
   "id": "14a4e5b0",
   "metadata": {},
   "outputs": [
    {
     "data": {
      "text/plain": [
       "array(['DSNY'], dtype=object)"
      ]
     },
     "execution_count": 7,
     "metadata": {},
     "output_type": "execute_result"
    }
   ],
   "source": [
    "df['Agency'].unique()"
   ]
  },
  {
   "cell_type": "code",
   "execution_count": 8,
   "id": "d81a4365",
   "metadata": {},
   "outputs": [],
   "source": [
    "df = df.drop(['Agency'], axis=1) #drop as there's only one value"
   ]
  },
  {
   "cell_type": "code",
   "execution_count": 9,
   "id": "907e18fc",
   "metadata": {},
   "outputs": [
    {
     "data": {
      "text/plain": [
       "43"
      ]
     },
     "execution_count": 9,
     "metadata": {},
     "output_type": "execute_result"
    }
   ],
   "source": [
    "df['Agency Name'].unique().size"
   ]
  },
  {
   "cell_type": "code",
   "execution_count": 10,
   "id": "b762e227",
   "metadata": {},
   "outputs": [
    {
     "data": {
      "text/plain": [
       "array(['Graffiti', 'Snow', 'Litter Basket / Request', 'Dirty Conditions',\n",
       "       'Sanitation Condition', 'Sweeping/Missed', 'Derelict Vehicles',\n",
       "       'Vacant Lot', 'Adopt-A-Basket', 'Other Enforcement',\n",
       "       'Missed Collection (All Materials)', 'Sweeping/Inadequate',\n",
       "       'Collection Truck Noise', 'Recycling Enforcement',\n",
       "       'Overflowing Litter Baskets', 'Derelict Bicycle',\n",
       "       'Overflowing Recycling Baskets', 'Foam Ban Enforcement',\n",
       "       'Sweeping/Missed-Inadequate', 'Request Xmas Tree Collection',\n",
       "       'Electronics Waste', 'Request Large Bulky Item Collection',\n",
       "       'Electronics Waste Appointment'], dtype=object)"
      ]
     },
     "execution_count": 10,
     "metadata": {},
     "output_type": "execute_result"
    }
   ],
   "source": [
    "df['Complaint Type'].unique()"
   ]
  },
  {
   "cell_type": "code",
   "execution_count": 11,
   "id": "f28430a5",
   "metadata": {},
   "outputs": [
    {
     "data": {
      "text/plain": [
       "62"
      ]
     },
     "execution_count": 11,
     "metadata": {},
     "output_type": "execute_result"
    }
   ],
   "source": [
    "df['Descriptor'].unique().size"
   ]
  },
  {
   "cell_type": "code",
   "execution_count": 12,
   "id": "da8288f9",
   "metadata": {},
   "outputs": [
    {
     "data": {
      "text/plain": [
       "array([nan, 'Street', 'Sidewalk', 'Lot', 'Residential', 'Other',\n",
       "       'Comercial', 'Mixed Use'], dtype=object)"
      ]
     },
     "execution_count": 12,
     "metadata": {},
     "output_type": "execute_result"
    }
   ],
   "source": [
    "df['Location Type'].unique()"
   ]
  },
  {
   "cell_type": "code",
   "execution_count": 13,
   "id": "93a21ff6",
   "metadata": {},
   "outputs": [
    {
     "data": {
      "text/plain": [
       "216"
      ]
     },
     "execution_count": 13,
     "metadata": {},
     "output_type": "execute_result"
    }
   ],
   "source": [
    "df['Incident Zip'].unique().size"
   ]
  },
  {
   "cell_type": "code",
   "execution_count": 14,
   "id": "4804cc07",
   "metadata": {},
   "outputs": [],
   "source": [
    "# drop as this is a \"categorical\" column represented in float, \n",
    "# and it has too many unique values, if we have powerful machine and enough time we may keep it\n",
    "df = df.drop(['Incident Zip'], axis=1) "
   ]
  },
  {
   "cell_type": "code",
   "execution_count": 15,
   "id": "e2219f30",
   "metadata": {},
   "outputs": [
    {
     "data": {
      "text/plain": [
       "array([nan, 'BROOKLYN', 'BRONX', 'STATEN ISLAND', 'NEW YORK', 'Maspeth',\n",
       "       'QUEENS', 'Jamaica', 'Astoria', 'Hollis', 'Howard Beach',\n",
       "       'Flushing', 'Fresh Meadows', 'Saint Albans', 'Elmhurst',\n",
       "       'Ridgewood', 'Woodside', 'Bayside', 'East Elmhurst', 'Rego Park',\n",
       "       'Long Island City', 'Springfield Gardens', 'College Point',\n",
       "       'Forest Hills', 'Little Neck', 'Richmond Hill', 'Middle Village',\n",
       "       'Ozone Park', 'Bellerose', 'Glen Oaks', 'Jackson Heights',\n",
       "       'South Richmond Hill', 'Far Rockaway', 'Cambria Heights',\n",
       "       'Rosedale', 'Arverne', 'Whitestone', 'Woodhaven', 'Corona',\n",
       "       'Queens Village', 'Rockaway Park', 'Floral Park',\n",
       "       'South Ozone Park', 'Sunnyside', 'Kew Gardens', 'Oakland Gardens',\n",
       "       'Breezy Point', 'New Hyde Park'], dtype=object)"
      ]
     },
     "execution_count": 15,
     "metadata": {},
     "output_type": "execute_result"
    }
   ],
   "source": [
    "df['City'].unique()"
   ]
  },
  {
   "cell_type": "code",
   "execution_count": 16,
   "id": "ecb63899",
   "metadata": {},
   "outputs": [
    {
     "data": {
      "text/plain": [
       "array([nan, 'DSNY Garage'], dtype=object)"
      ]
     },
     "execution_count": 16,
     "metadata": {},
     "output_type": "execute_result"
    }
   ],
   "source": [
    "df['Facility Type'].unique()"
   ]
  },
  {
   "cell_type": "code",
   "execution_count": 17,
   "id": "e6b4c4c8",
   "metadata": {},
   "outputs": [],
   "source": [
    "df = df.drop(['Facility Type'], axis=1) #drop as there's only one value"
   ]
  },
  {
   "cell_type": "code",
   "execution_count": 18,
   "id": "c0cf1d66",
   "metadata": {},
   "outputs": [
    {
     "data": {
      "text/plain": [
       "array(['Open', 'Closed', 'Pending', 'Assigned'], dtype=object)"
      ]
     },
     "execution_count": 18,
     "metadata": {},
     "output_type": "execute_result"
    }
   ],
   "source": [
    "df['Status'].unique()"
   ]
  },
  {
   "cell_type": "code",
   "execution_count": 19,
   "id": "9d01d70a",
   "metadata": {},
   "outputs": [
    {
     "data": {
      "text/plain": [
       "72"
      ]
     },
     "execution_count": 19,
     "metadata": {},
     "output_type": "execute_result"
    }
   ],
   "source": [
    "df['Resolution Description'].unique().size"
   ]
  },
  {
   "cell_type": "code",
   "execution_count": 20,
   "id": "cfb8f9a8",
   "metadata": {},
   "outputs": [
    {
     "data": {
      "text/plain": [
       "78"
      ]
     },
     "execution_count": 20,
     "metadata": {},
     "output_type": "execute_result"
    }
   ],
   "source": [
    "df['Community Board'].unique().size"
   ]
  },
  {
   "cell_type": "code",
   "execution_count": 21,
   "id": "f728b7bd",
   "metadata": {},
   "outputs": [
    {
     "data": {
      "text/plain": [
       "array(['BROOKLYN', 'QUEENS', 'BRONX', 'STATEN ISLAND', 'MANHATTAN', nan,\n",
       "       'Unspecified'], dtype=object)"
      ]
     },
     "execution_count": 21,
     "metadata": {},
     "output_type": "execute_result"
    }
   ],
   "source": [
    "df['Borough'].unique()"
   ]
  },
  {
   "cell_type": "code",
   "execution_count": 22,
   "id": "e05b2eab",
   "metadata": {},
   "outputs": [
    {
     "data": {
      "text/plain": [
       "array(['OTHER', 'PHONE', 'ONLINE', 'UNKNOWN', 'MOBILE'], dtype=object)"
      ]
     },
     "execution_count": 22,
     "metadata": {},
     "output_type": "execute_result"
    }
   ],
   "source": [
    "df['Open Data Channel Type'].unique()"
   ]
  },
  {
   "cell_type": "code",
   "execution_count": 23,
   "id": "dffde455",
   "metadata": {},
   "outputs": [
    {
     "data": {
      "text/plain": [
       "array(['BROOKLYN', 'QUEENS', 'BRONX', 'STATEN ISLAND', 'MANHATTAN', nan,\n",
       "       'Unspecified'], dtype=object)"
      ]
     },
     "execution_count": 23,
     "metadata": {},
     "output_type": "execute_result"
    }
   ],
   "source": [
    "df['Park Borough'].unique()"
   ]
  },
  {
   "cell_type": "code",
   "execution_count": 24,
   "id": "5e261460",
   "metadata": {},
   "outputs": [
    {
     "data": {
      "text/plain": [
       "array(['Unspecified'], dtype=object)"
      ]
     },
     "execution_count": 24,
     "metadata": {},
     "output_type": "execute_result"
    }
   ],
   "source": [
    "df['Park Facility Name'].unique()"
   ]
  },
  {
   "cell_type": "code",
   "execution_count": 25,
   "id": "9b38d4fa",
   "metadata": {},
   "outputs": [],
   "source": [
    "df = df.drop(['Park Facility Name'], axis=1) #drop as there's only one value"
   ]
  },
  {
   "cell_type": "code",
   "execution_count": 26,
   "id": "b79cb142",
   "metadata": {},
   "outputs": [
    {
     "name": "stdout",
     "output_type": "stream",
     "text": [
      "<class 'pandas.core.frame.DataFrame'>\n",
      "RangeIndex: 576487 entries, 0 to 576486\n",
      "Data columns (total 29 columns):\n",
      " #   Column                          Non-Null Count   Dtype  \n",
      "---  ------                          --------------   -----  \n",
      " 0   Unique Key                      576487 non-null  int64  \n",
      " 1   Created Date                    576487 non-null  object \n",
      " 2   Closed Date                     570242 non-null  object \n",
      " 3   Agency Name                     576487 non-null  object \n",
      " 4   Complaint Type                  576487 non-null  object \n",
      " 5   Descriptor                      576487 non-null  object \n",
      " 6   Location Type                   567793 non-null  object \n",
      " 7   Incident Address                488832 non-null  object \n",
      " 8   Street Name                     488832 non-null  object \n",
      " 9   Cross Street 1                  435445 non-null  object \n",
      " 10  Cross Street 2                  413476 non-null  object \n",
      " 11  Intersection Street 1           84745 non-null   object \n",
      " 12  Intersection Street 2           84745 non-null   object \n",
      " 13  Address Type                    573541 non-null  object \n",
      " 14  City                            563252 non-null  object \n",
      " 15  Status                          576487 non-null  object \n",
      " 16  Due Date                        42560 non-null   object \n",
      " 17  Resolution Description          527244 non-null  object \n",
      " 18  Resolution Action Updated Date  574641 non-null  object \n",
      " 19  Community Board                 574899 non-null  object \n",
      " 20  BBL                             458984 non-null  float64\n",
      " 21  Borough                         574899 non-null  object \n",
      " 22  X Coordinate (State Plane)      562693 non-null  float64\n",
      " 23  Y Coordinate (State Plane)      562693 non-null  float64\n",
      " 24  Open Data Channel Type          576487 non-null  object \n",
      " 25  Park Borough                    574899 non-null  object \n",
      " 26  Latitude                        562693 non-null  float64\n",
      " 27  Longitude                       562693 non-null  float64\n",
      " 28  Location                        562693 non-null  object \n",
      "dtypes: float64(5), int64(1), object(23)\n",
      "memory usage: 127.5+ MB\n"
     ]
    }
   ],
   "source": [
    "df.info()"
   ]
  },
  {
   "cell_type": "code",
   "execution_count": null,
   "id": "56dea598",
   "metadata": {},
   "outputs": [],
   "source": [
    "# drop all the address related columns due to different types used\n",
    "# it's hard to normalize"
   ]
  },
  {
   "cell_type": "code",
   "execution_count": 27,
   "id": "66cae63c",
   "metadata": {},
   "outputs": [],
   "source": [
    "df = df.drop(df.columns[7:13], axis=1)\n",
    "df = df.drop(['Address Type'], axis=1)"
   ]
  },
  {
   "cell_type": "code",
   "execution_count": 28,
   "id": "809d61a4",
   "metadata": {},
   "outputs": [
    {
     "data": {
      "text/html": [
       "<div>\n",
       "<style scoped>\n",
       "    .dataframe tbody tr th:only-of-type {\n",
       "        vertical-align: middle;\n",
       "    }\n",
       "\n",
       "    .dataframe tbody tr th {\n",
       "        vertical-align: top;\n",
       "    }\n",
       "\n",
       "    .dataframe thead th {\n",
       "        text-align: right;\n",
       "    }\n",
       "</style>\n",
       "<table border=\"1\" class=\"dataframe\">\n",
       "  <thead>\n",
       "    <tr style=\"text-align: right;\">\n",
       "      <th></th>\n",
       "      <th>Latitude</th>\n",
       "      <th>Longitude</th>\n",
       "      <th>X Coordinate (State Plane)</th>\n",
       "      <th>Y Coordinate (State Plane)</th>\n",
       "      <th>BBL</th>\n",
       "    </tr>\n",
       "  </thead>\n",
       "  <tbody>\n",
       "    <tr>\n",
       "      <th>576482</th>\n",
       "      <td>40.694133</td>\n",
       "      <td>-73.964144</td>\n",
       "      <td>994193.0</td>\n",
       "      <td>192170.0</td>\n",
       "      <td>3.018930e+09</td>\n",
       "    </tr>\n",
       "    <tr>\n",
       "      <th>576483</th>\n",
       "      <td>40.653129</td>\n",
       "      <td>-73.956104</td>\n",
       "      <td>996430.0</td>\n",
       "      <td>177232.0</td>\n",
       "      <td>3.050838e+09</td>\n",
       "    </tr>\n",
       "    <tr>\n",
       "      <th>576484</th>\n",
       "      <td>40.677703</td>\n",
       "      <td>-73.760024</td>\n",
       "      <td>1050813.0</td>\n",
       "      <td>186273.0</td>\n",
       "      <td>4.129970e+09</td>\n",
       "    </tr>\n",
       "    <tr>\n",
       "      <th>576485</th>\n",
       "      <td>40.728623</td>\n",
       "      <td>-73.720484</td>\n",
       "      <td>1061721.0</td>\n",
       "      <td>204857.0</td>\n",
       "      <td>4.086370e+09</td>\n",
       "    </tr>\n",
       "    <tr>\n",
       "      <th>576486</th>\n",
       "      <td>40.712641</td>\n",
       "      <td>-73.800154</td>\n",
       "      <td>1039653.0</td>\n",
       "      <td>198974.0</td>\n",
       "      <td>4.098470e+09</td>\n",
       "    </tr>\n",
       "  </tbody>\n",
       "</table>\n",
       "</div>"
      ],
      "text/plain": [
       "         Latitude  Longitude  X Coordinate (State Plane)  \\\n",
       "576482  40.694133 -73.964144                    994193.0   \n",
       "576483  40.653129 -73.956104                    996430.0   \n",
       "576484  40.677703 -73.760024                   1050813.0   \n",
       "576485  40.728623 -73.720484                   1061721.0   \n",
       "576486  40.712641 -73.800154                   1039653.0   \n",
       "\n",
       "        Y Coordinate (State Plane)           BBL  \n",
       "576482                    192170.0  3.018930e+09  \n",
       "576483                    177232.0  3.050838e+09  \n",
       "576484                    186273.0  4.129970e+09  \n",
       "576485                    204857.0  4.086370e+09  \n",
       "576486                    198974.0  4.098470e+09  "
      ]
     },
     "execution_count": 28,
     "metadata": {},
     "output_type": "execute_result"
    }
   ],
   "source": [
    "df[['Latitude', 'Longitude', 'X Coordinate (State Plane)', 'Y Coordinate (State Plane)', 'BBL']].tail()"
   ]
  },
  {
   "cell_type": "code",
   "execution_count": 29,
   "id": "565939a8",
   "metadata": {},
   "outputs": [],
   "source": [
    "df = df.drop(['BBL', 'Latitude', 'Longitude', 'Location'], axis=1) #only keep (State Plane Coordinate ) as location "
   ]
  },
  {
   "cell_type": "code",
   "execution_count": 30,
   "id": "9f8bb170",
   "metadata": {},
   "outputs": [
    {
     "data": {
      "text/plain": [
       "Unique Key                        1588\n",
       "Created Date                      1588\n",
       "Closed Date                       1588\n",
       "Agency Name                       1588\n",
       "Complaint Type                    1588\n",
       "Descriptor                        1588\n",
       "Location Type                     1588\n",
       "City                                 0\n",
       "Status                            1588\n",
       "Due Date                             0\n",
       "Resolution Description            1588\n",
       "Resolution Action Updated Date    1588\n",
       "Community Board                      0\n",
       "Borough                              0\n",
       "X Coordinate (State Plane)           0\n",
       "Y Coordinate (State Plane)           0\n",
       "Open Data Channel Type            1588\n",
       "Park Borough                         0\n",
       "dtype: int64"
      ]
     },
     "execution_count": 30,
     "metadata": {},
     "output_type": "execute_result"
    }
   ],
   "source": [
    "df[df['Park Borough']!=df['Borough']].count()\n",
    "#df[df['Park Borough']!=df['Borough']][['Park Borough', 'Borough']]"
   ]
  },
  {
   "cell_type": "code",
   "execution_count": 31,
   "id": "44c2de31",
   "metadata": {},
   "outputs": [],
   "source": [
    "df = df.drop(['Park Borough'], axis=1) #drop as it is a dup to 'Borough'"
   ]
  },
  {
   "cell_type": "code",
   "execution_count": 156,
   "id": "15bb12d9",
   "metadata": {},
   "outputs": [],
   "source": []
  },
  {
   "cell_type": "code",
   "execution_count": 32,
   "id": "53d96968",
   "metadata": {},
   "outputs": [
    {
     "name": "stdout",
     "output_type": "stream",
     "text": [
      "<class 'pandas.core.frame.DataFrame'>\n",
      "RangeIndex: 576487 entries, 0 to 576486\n",
      "Data columns (total 17 columns):\n",
      " #   Column                          Non-Null Count   Dtype  \n",
      "---  ------                          --------------   -----  \n",
      " 0   Unique Key                      576487 non-null  int64  \n",
      " 1   Created Date                    576487 non-null  object \n",
      " 2   Closed Date                     570242 non-null  object \n",
      " 3   Agency Name                     576487 non-null  object \n",
      " 4   Complaint Type                  576487 non-null  object \n",
      " 5   Descriptor                      576487 non-null  object \n",
      " 6   Location Type                   567793 non-null  object \n",
      " 7   City                            563252 non-null  object \n",
      " 8   Status                          576487 non-null  object \n",
      " 9   Due Date                        42560 non-null   object \n",
      " 10  Resolution Description          527244 non-null  object \n",
      " 11  Resolution Action Updated Date  574641 non-null  object \n",
      " 12  Community Board                 574899 non-null  object \n",
      " 13  Borough                         574899 non-null  object \n",
      " 14  X Coordinate (State Plane)      562693 non-null  float64\n",
      " 15  Y Coordinate (State Plane)      562693 non-null  float64\n",
      " 16  Open Data Channel Type          576487 non-null  object \n",
      "dtypes: float64(2), int64(1), object(14)\n",
      "memory usage: 74.8+ MB\n"
     ]
    }
   ],
   "source": [
    "df.info()"
   ]
  },
  {
   "cell_type": "code",
   "execution_count": 33,
   "id": "51bbac16",
   "metadata": {},
   "outputs": [
    {
     "data": {
      "text/html": [
       "<div>\n",
       "<style scoped>\n",
       "    .dataframe tbody tr th:only-of-type {\n",
       "        vertical-align: middle;\n",
       "    }\n",
       "\n",
       "    .dataframe tbody tr th {\n",
       "        vertical-align: top;\n",
       "    }\n",
       "\n",
       "    .dataframe thead th {\n",
       "        text-align: right;\n",
       "    }\n",
       "</style>\n",
       "<table border=\"1\" class=\"dataframe\">\n",
       "  <thead>\n",
       "    <tr style=\"text-align: right;\">\n",
       "      <th></th>\n",
       "      <th>Created Date</th>\n",
       "      <th>Due Date</th>\n",
       "      <th>Closed Date</th>\n",
       "    </tr>\n",
       "  </thead>\n",
       "  <tbody>\n",
       "    <tr>\n",
       "      <th>557</th>\n",
       "      <td>04/15/2015 11:18:30 AM</td>\n",
       "      <td>06/27/2015 10:29:08 AM</td>\n",
       "      <td>09/24/2015 12:00:00 AM</td>\n",
       "    </tr>\n",
       "    <tr>\n",
       "      <th>876</th>\n",
       "      <td>06/24/2015 01:23:48 PM</td>\n",
       "      <td>08/14/2015 03:09:43 PM</td>\n",
       "      <td>09/03/2015 12:00:00 AM</td>\n",
       "    </tr>\n",
       "    <tr>\n",
       "      <th>1147</th>\n",
       "      <td>08/05/2015 10:27:06 AM</td>\n",
       "      <td>09/16/2015 11:08:34 AM</td>\n",
       "      <td>NaN</td>\n",
       "    </tr>\n",
       "    <tr>\n",
       "      <th>1325</th>\n",
       "      <td>09/01/2015 03:12:17 PM</td>\n",
       "      <td>10/08/2015 11:29:24 AM</td>\n",
       "      <td>09/23/2015 12:00:00 AM</td>\n",
       "    </tr>\n",
       "    <tr>\n",
       "      <th>1633</th>\n",
       "      <td>11/01/2015 01:44:59 AM</td>\n",
       "      <td>12/10/2015 10:38:28 AM</td>\n",
       "      <td>02/23/2016 12:00:00 AM</td>\n",
       "    </tr>\n",
       "  </tbody>\n",
       "</table>\n",
       "</div>"
      ],
      "text/plain": [
       "                Created Date                Due Date             Closed Date\n",
       "557   04/15/2015 11:18:30 AM  06/27/2015 10:29:08 AM  09/24/2015 12:00:00 AM\n",
       "876   06/24/2015 01:23:48 PM  08/14/2015 03:09:43 PM  09/03/2015 12:00:00 AM\n",
       "1147  08/05/2015 10:27:06 AM  09/16/2015 11:08:34 AM                     NaN\n",
       "1325  09/01/2015 03:12:17 PM  10/08/2015 11:29:24 AM  09/23/2015 12:00:00 AM\n",
       "1633  11/01/2015 01:44:59 AM  12/10/2015 10:38:28 AM  02/23/2016 12:00:00 AM"
      ]
     },
     "execution_count": 33,
     "metadata": {},
     "output_type": "execute_result"
    }
   ],
   "source": [
    "df[df['Due Date'].notnull()][['Created Date', 'Due Date', 'Closed Date']].head()"
   ]
  },
  {
   "cell_type": "code",
   "execution_count": 34,
   "id": "f466b9ca",
   "metadata": {},
   "outputs": [],
   "source": [
    "# drop Due Date as only less than 10% data has it\n",
    "df = df.drop(['Due Date'], axis=1)"
   ]
  },
  {
   "cell_type": "code",
   "execution_count": 35,
   "id": "057fd083",
   "metadata": {},
   "outputs": [
    {
     "name": "stdout",
     "output_type": "stream",
     "text": [
      "<class 'pandas.core.frame.DataFrame'>\n",
      "RangeIndex: 576487 entries, 0 to 576486\n",
      "Data columns (total 16 columns):\n",
      " #   Column                          Non-Null Count   Dtype  \n",
      "---  ------                          --------------   -----  \n",
      " 0   Unique Key                      576487 non-null  int64  \n",
      " 1   Created Date                    576487 non-null  object \n",
      " 2   Closed Date                     570242 non-null  object \n",
      " 3   Agency Name                     576487 non-null  object \n",
      " 4   Complaint Type                  576487 non-null  object \n",
      " 5   Descriptor                      576487 non-null  object \n",
      " 6   Location Type                   567793 non-null  object \n",
      " 7   City                            563252 non-null  object \n",
      " 8   Status                          576487 non-null  object \n",
      " 9   Resolution Description          527244 non-null  object \n",
      " 10  Resolution Action Updated Date  574641 non-null  object \n",
      " 11  Community Board                 574899 non-null  object \n",
      " 12  Borough                         574899 non-null  object \n",
      " 13  X Coordinate (State Plane)      562693 non-null  float64\n",
      " 14  Y Coordinate (State Plane)      562693 non-null  float64\n",
      " 15  Open Data Channel Type          576487 non-null  object \n",
      "dtypes: float64(2), int64(1), object(13)\n",
      "memory usage: 70.4+ MB\n"
     ]
    }
   ],
   "source": [
    "df.info()"
   ]
  },
  {
   "cell_type": "markdown",
   "id": "70807086",
   "metadata": {},
   "source": [
    "# we now have our base dataframe"
   ]
  },
  {
   "cell_type": "code",
   "execution_count": 36,
   "id": "7f999890",
   "metadata": {},
   "outputs": [],
   "source": [
    "df1 = df[df['Closed Date'].notnull()]"
   ]
  },
  {
   "cell_type": "code",
   "execution_count": 37,
   "id": "a6eecf9b",
   "metadata": {},
   "outputs": [],
   "source": [
    "df1 = df1[df1['Status']=='Closed']"
   ]
  },
  {
   "cell_type": "code",
   "execution_count": 38,
   "id": "b6ce1001",
   "metadata": {},
   "outputs": [
    {
     "name": "stdout",
     "output_type": "stream",
     "text": [
      "<class 'pandas.core.frame.DataFrame'>\n",
      "Int64Index: 567774 entries, 1 to 576486\n",
      "Data columns (total 5 columns):\n",
      " #   Column          Non-Null Count   Dtype \n",
      "---  ------          --------------   ----- \n",
      " 0   Created Date    567774 non-null  object\n",
      " 1   Closed Date     567774 non-null  object\n",
      " 2   Complaint Type  567774 non-null  object\n",
      " 3   Location Type   561888 non-null  object\n",
      " 4   Borough         566186 non-null  object\n",
      "dtypes: object(5)\n",
      "memory usage: 26.0+ MB\n"
     ]
    }
   ],
   "source": [
    "df1 = df1[['Created Date', 'Closed Date', 'Complaint Type', 'Location Type', 'Borough']]\n",
    "df1.info()"
   ]
  },
  {
   "cell_type": "code",
   "execution_count": 39,
   "id": "62e1d5a4",
   "metadata": {},
   "outputs": [],
   "source": [
    "#df1['Complaint Type'].isnull().sum() #astype('category')\n",
    "df1['Complaint'] = df1['Complaint Type'].astype('category')"
   ]
  },
  {
   "cell_type": "code",
   "execution_count": 40,
   "id": "e87e7102",
   "metadata": {},
   "outputs": [],
   "source": [
    "df1['Location'] = df1['Location Type'].fillna('unknown').astype('category')"
   ]
  },
  {
   "cell_type": "code",
   "execution_count": 41,
   "id": "b77f19ea",
   "metadata": {},
   "outputs": [],
   "source": [
    "df1['Bor'] = df1['Borough'].fillna('unknown').astype('category')"
   ]
  },
  {
   "cell_type": "code",
   "execution_count": 42,
   "id": "dd2dcde8",
   "metadata": {},
   "outputs": [
    {
     "name": "stdout",
     "output_type": "stream",
     "text": [
      "<class 'pandas.core.frame.DataFrame'>\n",
      "Int64Index: 567774 entries, 1 to 576486\n",
      "Data columns (total 8 columns):\n",
      " #   Column          Non-Null Count   Dtype   \n",
      "---  ------          --------------   -----   \n",
      " 0   Created Date    567774 non-null  object  \n",
      " 1   Closed Date     567774 non-null  object  \n",
      " 2   Complaint Type  567774 non-null  object  \n",
      " 3   Location Type   561888 non-null  object  \n",
      " 4   Borough         566186 non-null  object  \n",
      " 5   Complaint       567774 non-null  category\n",
      " 6   Location        567774 non-null  category\n",
      " 7   Bor             567774 non-null  category\n",
      "dtypes: category(3), object(5)\n",
      "memory usage: 27.6+ MB\n"
     ]
    }
   ],
   "source": [
    "df1.info()"
   ]
  },
  {
   "cell_type": "code",
   "execution_count": 43,
   "id": "7792f83e",
   "metadata": {},
   "outputs": [],
   "source": [
    "df1['Created'] = pd.to_datetime(df1['Created Date'])"
   ]
  },
  {
   "cell_type": "code",
   "execution_count": 44,
   "id": "e879089a",
   "metadata": {},
   "outputs": [],
   "source": [
    "df1['Closed'] = pd.to_datetime(df1['Closed Date'], errors = 'coerce') #there's an odd ball causing trouble"
   ]
  },
  {
   "cell_type": "code",
   "execution_count": 45,
   "id": "c7dc90ea",
   "metadata": {},
   "outputs": [
    {
     "name": "stdout",
     "output_type": "stream",
     "text": [
      "<class 'pandas.core.frame.DataFrame'>\n",
      "Int64Index: 567774 entries, 1 to 576486\n",
      "Data columns (total 10 columns):\n",
      " #   Column          Non-Null Count   Dtype         \n",
      "---  ------          --------------   -----         \n",
      " 0   Created Date    567774 non-null  object        \n",
      " 1   Closed Date     567774 non-null  object        \n",
      " 2   Complaint Type  567774 non-null  object        \n",
      " 3   Location Type   561888 non-null  object        \n",
      " 4   Borough         566186 non-null  object        \n",
      " 5   Complaint       567774 non-null  category      \n",
      " 6   Location        567774 non-null  category      \n",
      " 7   Bor             567774 non-null  category      \n",
      " 8   Created         567774 non-null  datetime64[ns]\n",
      " 9   Closed          567773 non-null  datetime64[ns]\n",
      "dtypes: category(3), datetime64[ns](2), object(5)\n",
      "memory usage: 36.3+ MB\n"
     ]
    }
   ],
   "source": [
    "df1.info()"
   ]
  },
  {
   "cell_type": "code",
   "execution_count": 46,
   "id": "6fb04ee0",
   "metadata": {},
   "outputs": [],
   "source": [
    "df1 = df1[['Created', 'Closed', 'Bor', 'Location', 'Complaint']]"
   ]
  },
  {
   "cell_type": "code",
   "execution_count": 47,
   "id": "d65a0a9e",
   "metadata": {},
   "outputs": [],
   "source": [
    "df1 = df1.dropna()"
   ]
  },
  {
   "cell_type": "code",
   "execution_count": 48,
   "id": "6caebc80",
   "metadata": {},
   "outputs": [
    {
     "name": "stdout",
     "output_type": "stream",
     "text": [
      "<class 'pandas.core.frame.DataFrame'>\n",
      "Int64Index: 567773 entries, 1 to 576486\n",
      "Data columns (total 5 columns):\n",
      " #   Column     Non-Null Count   Dtype         \n",
      "---  ------     --------------   -----         \n",
      " 0   Created    567773 non-null  datetime64[ns]\n",
      " 1   Closed     567773 non-null  datetime64[ns]\n",
      " 2   Bor        567773 non-null  category      \n",
      " 3   Location   567773 non-null  category      \n",
      " 4   Complaint  567773 non-null  category      \n",
      "dtypes: category(3), datetime64[ns](2)\n",
      "memory usage: 14.6 MB\n"
     ]
    }
   ],
   "source": [
    "df1.info()"
   ]
  },
  {
   "cell_type": "code",
   "execution_count": 49,
   "id": "7d2a9c62",
   "metadata": {},
   "outputs": [],
   "source": [
    "df1['duration']=df1['Closed']-df1['Created']"
   ]
  },
  {
   "cell_type": "code",
   "execution_count": 50,
   "id": "e19f286d",
   "metadata": {},
   "outputs": [],
   "source": [
    "df1['hours'] = df1['duration']/np.timedelta64(1,'h')"
   ]
  },
  {
   "cell_type": "code",
   "execution_count": 51,
   "id": "6576e94b",
   "metadata": {},
   "outputs": [
    {
     "data": {
      "text/plain": [
       "count    5.677730e+05\n",
       "mean     2.529571e+02\n",
       "std      2.572750e+03\n",
       "min      0.000000e+00\n",
       "25%      2.260000e+01\n",
       "50%      4.188333e+01\n",
       "75%      9.360000e+01\n",
       "max      1.614201e+06\n",
       "Name: hours, dtype: float64"
      ]
     },
     "execution_count": 51,
     "metadata": {},
     "output_type": "execute_result"
    }
   ],
   "source": [
    "df1.hours.describe()"
   ]
  },
  {
   "cell_type": "code",
   "execution_count": 56,
   "id": "e8c794b1",
   "metadata": {},
   "outputs": [
    {
     "data": {
      "text/html": [
       "<div>\n",
       "<style scoped>\n",
       "    .dataframe tbody tr th:only-of-type {\n",
       "        vertical-align: middle;\n",
       "    }\n",
       "\n",
       "    .dataframe tbody tr th {\n",
       "        vertical-align: top;\n",
       "    }\n",
       "\n",
       "    .dataframe thead th {\n",
       "        text-align: right;\n",
       "    }\n",
       "</style>\n",
       "<table border=\"1\" class=\"dataframe\">\n",
       "  <thead>\n",
       "    <tr style=\"text-align: right;\">\n",
       "      <th></th>\n",
       "      <th>Created</th>\n",
       "      <th>Closed</th>\n",
       "      <th>Bor</th>\n",
       "      <th>Location</th>\n",
       "      <th>Complaint</th>\n",
       "      <th>duration</th>\n",
       "      <th>hours</th>\n",
       "    </tr>\n",
       "  </thead>\n",
       "  <tbody>\n",
       "    <tr>\n",
       "      <th>216824</th>\n",
       "      <td>2015-11-03 16:55:10</td>\n",
       "      <td>2100-01-01</td>\n",
       "      <td>QUEENS</td>\n",
       "      <td>Residential</td>\n",
       "      <td>Graffiti</td>\n",
       "      <td>30739 days 07:04:50</td>\n",
       "      <td>7.377431e+05</td>\n",
       "    </tr>\n",
       "    <tr>\n",
       "      <th>432807</th>\n",
       "      <td>2017-06-01 13:25:35</td>\n",
       "      <td>2047-07-27</td>\n",
       "      <td>MANHATTAN</td>\n",
       "      <td>Mixed Use</td>\n",
       "      <td>Graffiti</td>\n",
       "      <td>11012 days 10:34:25</td>\n",
       "      <td>2.642986e+05</td>\n",
       "    </tr>\n",
       "    <tr>\n",
       "      <th>509943</th>\n",
       "      <td>2017-10-11 14:34:08</td>\n",
       "      <td>2201-12-05</td>\n",
       "      <td>QUEENS</td>\n",
       "      <td>Comercial</td>\n",
       "      <td>Graffiti</td>\n",
       "      <td>67258 days 09:25:52</td>\n",
       "      <td>1.614201e+06</td>\n",
       "    </tr>\n",
       "    <tr>\n",
       "      <th>529177</th>\n",
       "      <td>2017-11-02 15:20:00</td>\n",
       "      <td>2047-12-04</td>\n",
       "      <td>MANHATTAN</td>\n",
       "      <td>Mixed Use</td>\n",
       "      <td>Graffiti</td>\n",
       "      <td>10988 days 08:40:00</td>\n",
       "      <td>2.637207e+05</td>\n",
       "    </tr>\n",
       "  </tbody>\n",
       "</table>\n",
       "</div>"
      ],
      "text/plain": [
       "                   Created     Closed        Bor     Location Complaint  \\\n",
       "216824 2015-11-03 16:55:10 2100-01-01     QUEENS  Residential  Graffiti   \n",
       "432807 2017-06-01 13:25:35 2047-07-27  MANHATTAN    Mixed Use  Graffiti   \n",
       "509943 2017-10-11 14:34:08 2201-12-05     QUEENS    Comercial  Graffiti   \n",
       "529177 2017-11-02 15:20:00 2047-12-04  MANHATTAN    Mixed Use  Graffiti   \n",
       "\n",
       "                  duration         hours  \n",
       "216824 30739 days 07:04:50  7.377431e+05  \n",
       "432807 11012 days 10:34:25  2.642986e+05  \n",
       "509943 67258 days 09:25:52  1.614201e+06  \n",
       "529177 10988 days 08:40:00  2.637207e+05  "
      ]
     },
     "execution_count": 56,
     "metadata": {},
     "output_type": "execute_result"
    }
   ],
   "source": [
    "df1[df1.hours>100000]"
   ]
  },
  {
   "cell_type": "code",
   "execution_count": 57,
   "id": "e68cb8ac",
   "metadata": {},
   "outputs": [
    {
     "data": {
      "text/plain": [
       "Created      35369\n",
       "Closed       35369\n",
       "Bor          35369\n",
       "Location     35369\n",
       "Complaint    35369\n",
       "duration     35369\n",
       "hours        35369\n",
       "dtype: int64"
      ]
     },
     "execution_count": 57,
     "metadata": {},
     "output_type": "execute_result"
    }
   ],
   "source": [
    "df1[df1.hours>1000].count()"
   ]
  },
  {
   "cell_type": "code",
   "execution_count": 58,
   "id": "e967b1b2",
   "metadata": {},
   "outputs": [],
   "source": [
    "df1=df1[df1.hours!=0] #ignore immediately closed; "
   ]
  },
  {
   "cell_type": "code",
   "execution_count": 62,
   "id": "19b6cf7c",
   "metadata": {},
   "outputs": [],
   "source": [
    "df1=df1[(df1.hours<1000)] #ignore those took longer than 1000 hour as anomaly"
   ]
  },
  {
   "cell_type": "code",
   "execution_count": 63,
   "id": "0d94f558",
   "metadata": {},
   "outputs": [
    {
     "data": {
      "text/html": [
       "<div>\n",
       "<style scoped>\n",
       "    .dataframe tbody tr th:only-of-type {\n",
       "        vertical-align: middle;\n",
       "    }\n",
       "\n",
       "    .dataframe tbody tr th {\n",
       "        vertical-align: top;\n",
       "    }\n",
       "\n",
       "    .dataframe thead th {\n",
       "        text-align: right;\n",
       "    }\n",
       "</style>\n",
       "<table border=\"1\" class=\"dataframe\">\n",
       "  <thead>\n",
       "    <tr style=\"text-align: right;\">\n",
       "      <th></th>\n",
       "      <th>Created</th>\n",
       "      <th>Closed</th>\n",
       "      <th>Bor</th>\n",
       "      <th>Location</th>\n",
       "      <th>Complaint</th>\n",
       "      <th>duration</th>\n",
       "      <th>hours</th>\n",
       "    </tr>\n",
       "  </thead>\n",
       "  <tbody>\n",
       "    <tr>\n",
       "      <th>1</th>\n",
       "      <td>2015-01-07 08:17:00</td>\n",
       "      <td>2015-01-07 12:00:00</td>\n",
       "      <td>QUEENS</td>\n",
       "      <td>Street</td>\n",
       "      <td>Snow</td>\n",
       "      <td>0 days 03:43:00</td>\n",
       "      <td>3.716667</td>\n",
       "    </tr>\n",
       "    <tr>\n",
       "      <th>2</th>\n",
       "      <td>2015-01-19 17:00:00</td>\n",
       "      <td>2015-01-21 12:00:00</td>\n",
       "      <td>QUEENS</td>\n",
       "      <td>Sidewalk</td>\n",
       "      <td>Litter Basket / Request</td>\n",
       "      <td>1 days 19:00:00</td>\n",
       "      <td>43.000000</td>\n",
       "    </tr>\n",
       "    <tr>\n",
       "      <th>3</th>\n",
       "      <td>2015-01-22 09:21:00</td>\n",
       "      <td>2015-01-31 12:00:00</td>\n",
       "      <td>QUEENS</td>\n",
       "      <td>Sidewalk</td>\n",
       "      <td>Dirty Conditions</td>\n",
       "      <td>9 days 02:39:00</td>\n",
       "      <td>218.650000</td>\n",
       "    </tr>\n",
       "    <tr>\n",
       "      <th>4</th>\n",
       "      <td>2015-01-02 06:11:00</td>\n",
       "      <td>2015-01-05 12:00:00</td>\n",
       "      <td>BRONX</td>\n",
       "      <td>Sidewalk</td>\n",
       "      <td>Sanitation Condition</td>\n",
       "      <td>3 days 05:49:00</td>\n",
       "      <td>77.816667</td>\n",
       "    </tr>\n",
       "    <tr>\n",
       "      <th>5</th>\n",
       "      <td>2015-01-02 09:57:00</td>\n",
       "      <td>2015-01-05 12:00:00</td>\n",
       "      <td>BROOKLYN</td>\n",
       "      <td>Sidewalk</td>\n",
       "      <td>Sweeping/Missed</td>\n",
       "      <td>3 days 02:03:00</td>\n",
       "      <td>74.050000</td>\n",
       "    </tr>\n",
       "  </tbody>\n",
       "</table>\n",
       "</div>"
      ],
      "text/plain": [
       "              Created              Closed       Bor  Location  \\\n",
       "1 2015-01-07 08:17:00 2015-01-07 12:00:00    QUEENS    Street   \n",
       "2 2015-01-19 17:00:00 2015-01-21 12:00:00    QUEENS  Sidewalk   \n",
       "3 2015-01-22 09:21:00 2015-01-31 12:00:00    QUEENS  Sidewalk   \n",
       "4 2015-01-02 06:11:00 2015-01-05 12:00:00     BRONX  Sidewalk   \n",
       "5 2015-01-02 09:57:00 2015-01-05 12:00:00  BROOKLYN  Sidewalk   \n",
       "\n",
       "                 Complaint        duration       hours  \n",
       "1                     Snow 0 days 03:43:00    3.716667  \n",
       "2  Litter Basket / Request 1 days 19:00:00   43.000000  \n",
       "3         Dirty Conditions 9 days 02:39:00  218.650000  \n",
       "4     Sanitation Condition 3 days 05:49:00   77.816667  \n",
       "5          Sweeping/Missed 3 days 02:03:00   74.050000  "
      ]
     },
     "execution_count": 63,
     "metadata": {},
     "output_type": "execute_result"
    }
   ],
   "source": [
    "#df1.info()\n",
    "#df1.describe()\n",
    "df1.head()"
   ]
  },
  {
   "cell_type": "code",
   "execution_count": 65,
   "id": "58288493",
   "metadata": {},
   "outputs": [
    {
     "data": {
      "text/plain": [
       "<AxesSubplot:title={'center':'hours'}, ylabel='Frequency'>"
      ]
     },
     "execution_count": 65,
     "metadata": {},
     "output_type": "execute_result"
    },
    {
     "data": {
      "image/png": "[encoded data removed]",
      "text/plain": [
       "<Figure size 432x288 with 1 Axes>"
      ]
     },
     "metadata": {
      "needs_background": "light"
     },
     "output_type": "display_data"
    }
   ],
   "source": [
    "df1.hours.plot(kind='hist', bins=20, title='hours') #long tail observed"
   ]
  },
  {
   "cell_type": "code",
   "execution_count": 106,
   "id": "1225c913",
   "metadata": {},
   "outputs": [],
   "source": [
    "df1['c_month']=pd.DatetimeIndex(df1.Created).month"
   ]
  },
  {
   "cell_type": "code",
   "execution_count": 103,
   "id": "fd358a0e",
   "metadata": {},
   "outputs": [],
   "source": [
    "df1['c_weekday']=pd.DatetimeIndex(df1.Created).weekday"
   ]
  },
  {
   "cell_type": "code",
   "execution_count": 104,
   "id": "83a86a69",
   "metadata": {},
   "outputs": [],
   "source": [
    "df1['c_hour']=pd.DatetimeIndex(df1.Created).hour"
   ]
  },
  {
   "cell_type": "code",
   "execution_count": 66,
   "id": "088a60d3",
   "metadata": {},
   "outputs": [],
   "source": [
    "from sklearn.model_selection import train_test_split"
   ]
  },
  {
   "cell_type": "code",
   "execution_count": 67,
   "id": "3a351815",
   "metadata": {},
   "outputs": [],
   "source": [
    "bor_dummies = pd.get_dummies(df1.Bor)"
   ]
  },
  {
   "cell_type": "code",
   "execution_count": 68,
   "id": "712791db",
   "metadata": {},
   "outputs": [],
   "source": [
    "location_dummies = pd.get_dummies(df1.Location)"
   ]
  },
  {
   "cell_type": "code",
   "execution_count": 69,
   "id": "69223380",
   "metadata": {},
   "outputs": [],
   "source": [
    "compalint_dummies = pd.get_dummies(df1.Complaint)"
   ]
  },
  {
   "cell_type": "code",
   "execution_count": 123,
   "id": "d59462e9",
   "metadata": {},
   "outputs": [],
   "source": []
  },
  {
   "cell_type": "code",
   "execution_count": 108,
   "id": "a3b89b5e",
   "metadata": {},
   "outputs": [],
   "source": [
    "merged = pd.concat([df1[['hours', 'c_weekday', 'c_hour', 'c_month']] , bor_dummies, location_dummies, compalint_dummies], axis='columns')"
   ]
  },
  {
   "cell_type": "code",
   "execution_count": 109,
   "id": "d00c15fd",
   "metadata": {},
   "outputs": [],
   "source": [
    "merged['log_hours'] = np.log(merged.hours)"
   ]
  },
  {
   "cell_type": "code",
   "execution_count": 110,
   "id": "7e531476",
   "metadata": {},
   "outputs": [
    {
     "data": {
      "text/html": [
       "<div>\n",
       "<style scoped>\n",
       "    .dataframe tbody tr th:only-of-type {\n",
       "        vertical-align: middle;\n",
       "    }\n",
       "\n",
       "    .dataframe tbody tr th {\n",
       "        vertical-align: top;\n",
       "    }\n",
       "\n",
       "    .dataframe thead th {\n",
       "        text-align: right;\n",
       "    }\n",
       "</style>\n",
       "<table border=\"1\" class=\"dataframe\">\n",
       "  <thead>\n",
       "    <tr style=\"text-align: right;\">\n",
       "      <th></th>\n",
       "      <th>log_hours</th>\n",
       "      <th>hours</th>\n",
       "    </tr>\n",
       "  </thead>\n",
       "  <tbody>\n",
       "    <tr>\n",
       "      <th>1</th>\n",
       "      <td>1.312827</td>\n",
       "      <td>3.716667</td>\n",
       "    </tr>\n",
       "    <tr>\n",
       "      <th>2</th>\n",
       "      <td>3.761200</td>\n",
       "      <td>43.000000</td>\n",
       "    </tr>\n",
       "    <tr>\n",
       "      <th>3</th>\n",
       "      <td>5.387472</td>\n",
       "      <td>218.650000</td>\n",
       "    </tr>\n",
       "    <tr>\n",
       "      <th>4</th>\n",
       "      <td>4.354356</td>\n",
       "      <td>77.816667</td>\n",
       "    </tr>\n",
       "    <tr>\n",
       "      <th>5</th>\n",
       "      <td>4.304741</td>\n",
       "      <td>74.050000</td>\n",
       "    </tr>\n",
       "  </tbody>\n",
       "</table>\n",
       "</div>"
      ],
      "text/plain": [
       "   log_hours       hours\n",
       "1   1.312827    3.716667\n",
       "2   3.761200   43.000000\n",
       "3   5.387472  218.650000\n",
       "4   4.354356   77.816667\n",
       "5   4.304741   74.050000"
      ]
     },
     "execution_count": 110,
     "metadata": {},
     "output_type": "execute_result"
    }
   ],
   "source": [
    "merged[['log_hours', 'hours']].head()"
   ]
  },
  {
   "cell_type": "code",
   "execution_count": 125,
   "id": "6fe33fc4",
   "metadata": {},
   "outputs": [],
   "source": [
    "#y = merged.hours.values\n",
    "y = merged.log_hours.values"
   ]
  },
  {
   "cell_type": "code",
   "execution_count": 126,
   "id": "2f6a7dfe",
   "metadata": {},
   "outputs": [],
   "source": [
    "X = merged.drop(['hours', 'log_hours'], axis=1).values"
   ]
  },
  {
   "cell_type": "code",
   "execution_count": 127,
   "id": "9ef7cb7f",
   "metadata": {},
   "outputs": [],
   "source": [
    "# split the data into train and test with a 20% test size\n",
    "X_train, X_test, y_train, y_test = train_test_split(X, y, test_size=0.2)"
   ]
  },
  {
   "cell_type": "code",
   "execution_count": 114,
   "id": "b1db2547",
   "metadata": {},
   "outputs": [],
   "source": [
    "from tensorflow.keras.models import Sequential\n",
    "from tensorflow.keras.layers import Dense\n",
    "from tensorflow.keras.optimizers import Adam"
   ]
  },
  {
   "cell_type": "code",
   "execution_count": 128,
   "id": "034bba73",
   "metadata": {},
   "outputs": [],
   "source": [
    "# create a linear regression model in Keras\n",
    "# with the appropriate number of inputs and output\n",
    "model = Sequential()\n",
    "model.add(Dense(1, input_shape=(41,)))\n",
    "model.compile(Adam(learning_rate=0.8), 'mean_squared_error')"
   ]
  },
  {
   "cell_type": "code",
   "execution_count": 129,
   "id": "519594b8",
   "metadata": {},
   "outputs": [
    {
     "name": "stdout",
     "output_type": "stream",
     "text": [
      "Model: \"sequential_6\"\n",
      "_________________________________________________________________\n",
      "Layer (type)                 Output Shape              Param #   \n",
      "=================================================================\n",
      "dense_6 (Dense)              (None, 1)                 42        \n",
      "=================================================================\n",
      "Total params: 42\n",
      "Trainable params: 42\n",
      "Non-trainable params: 0\n",
      "_________________________________________________________________\n"
     ]
    }
   ],
   "source": [
    "model.summary()"
   ]
  },
  {
   "cell_type": "code",
   "execution_count": 133,
   "id": "f3225405",
   "metadata": {},
   "outputs": [
    {
     "name": "stdout",
     "output_type": "stream",
     "text": [
      "Train on 395276 samples\n",
      "Epoch 1/10\n",
      "395276/395276 [==============================] - 0s 1us/sample - loss: 1.2988\n",
      "Epoch 2/10\n",
      "395276/395276 [==============================] - 0s 0us/sample - loss: 1.1787\n",
      "Epoch 3/10\n",
      "395276/395276 [==============================] - 0s 0us/sample - loss: 1.1503\n",
      "Epoch 4/10\n",
      "395276/395276 [==============================] - 0s 0us/sample - loss: 1.1160\n",
      "Epoch 5/10\n",
      "395276/395276 [==============================] - 0s 0us/sample - loss: 1.6599\n",
      "Epoch 6/10\n",
      "395276/395276 [==============================] - 0s 0us/sample - loss: 1.4759\n",
      "Epoch 7/10\n",
      "395276/395276 [==============================] - 0s 0us/sample - loss: 1.2737\n",
      "Epoch 8/10\n",
      "395276/395276 [==============================] - 0s 0us/sample - loss: 1.4177\n",
      "Epoch 9/10\n",
      "395276/395276 [==============================] - 0s 0us/sample - loss: 1.1541\n",
      "Epoch 10/10\n",
      "395276/395276 [==============================] - 0s 0us/sample - loss: 1.1403\n"
     ]
    },
    {
     "data": {
      "text/plain": [
       "<tensorflow.python.keras.callbacks.History at 0x7fdd6887ec10>"
      ]
     },
     "execution_count": 133,
     "metadata": {},
     "output_type": "execute_result"
    }
   ],
   "source": [
    "# train the model on the training set and check its accuracy on training and test set\n",
    "model.fit(X_train, y_train, batch_size=30000, epochs=10)"
   ]
  },
  {
   "cell_type": "code",
   "execution_count": 135,
   "id": "896c342b",
   "metadata": {},
   "outputs": [],
   "source": [
    "from sklearn.metrics import r2_score"
   ]
  },
  {
   "cell_type": "code",
   "execution_count": 136,
   "id": "bb0d5ac5",
   "metadata": {},
   "outputs": [
    {
     "name": "stdout",
     "output_type": "stream",
     "text": [
      "The R2 score on the Train set is:\t0.173\n",
      "The R2 score on the Test set is:\t0.170\n"
     ]
    }
   ],
   "source": [
    "# check the R2score on training and test set (not good)\n",
    "\n",
    "y_train_pred = model.predict(X_train)\n",
    "y_test_pred = model.predict(X_test)\n",
    "\n",
    "print(\"The R2 score on the Train set is:\\t{:0.3f}\".format(r2_score(y_train, y_train_pred)))\n",
    "print(\"The R2 score on the Test set is:\\t{:0.3f}\".format(r2_score(y_test, y_test_pred)))"
   ]
  },
  {
   "cell_type": "markdown",
   "id": "7c7d59a7",
   "metadata": {},
   "source": [
    "# maybe we can try time series?"
   ]
  },
  {
   "cell_type": "code",
   "execution_count": 137,
   "id": "bf8f2e9e",
   "metadata": {},
   "outputs": [],
   "source": [
    "df1 = df1.sort_values(by='Created')"
   ]
  },
  {
   "cell_type": "code",
   "execution_count": 138,
   "id": "68101e3a",
   "metadata": {},
   "outputs": [
    {
     "data": {
      "text/plain": [
       "<AxesSubplot:xlabel='Created'>"
      ]
     },
     "execution_count": 138,
     "metadata": {},
     "output_type": "execute_result"
    },
    {
     "data": {
      "image/png": "[encoded data removed]",
      "text/plain": [
       "<Figure size 432x288 with 1 Axes>"
      ]
     },
     "metadata": {
      "needs_background": "light"
     },
     "output_type": "display_data"
    }
   ],
   "source": [
    "df1.plot(x='Created', y='hours')"
   ]
  },
  {
   "cell_type": "code",
   "execution_count": 142,
   "id": "cf6d92db",
   "metadata": {},
   "outputs": [],
   "source": [
    "df_ts = df1[['Created', 'hours']].set_index('Created')# [['Created', 'hours']].astype('float32')"
   ]
  },
  {
   "cell_type": "code",
   "execution_count": 147,
   "id": "98475080",
   "metadata": {},
   "outputs": [
    {
     "name": "stdout",
     "output_type": "stream",
     "text": [
      "331043 163052\n"
     ]
    }
   ],
   "source": [
    "dataset = df_ts.values\n",
    "# split into train and test sets\n",
    "train_size = int(len(dataset) * 0.67)\n",
    "test_size = len(dataset) - train_size\n",
    "train, test = dataset[0:train_size,:], dataset[train_size:len(dataset),:]\n",
    "print(len(train), len(test))\n"
   ]
  },
  {
   "cell_type": "code",
   "execution_count": 151,
   "id": "b9adb6ae",
   "metadata": {},
   "outputs": [],
   "source": [
    "\n",
    "# convert an array of values into a dataset matrix\n",
    "def create_dataset(dataset, look_back=1):\n",
    "\tdataX, dataY = [], []\n",
    "\tfor i in range(len(dataset)-look_back-1):\n",
    "\t\ta = dataset[i:(i+look_back), 0]\n",
    "\t\tdataX.append(a)\n",
    "\t\tdataY.append(dataset[i + look_back, 0])\n",
    "\treturn np.array(dataX), np.array(dataY)"
   ]
  },
  {
   "cell_type": "code",
   "execution_count": 152,
   "id": "4cff870f",
   "metadata": {},
   "outputs": [],
   "source": [
    "# reshape into X=t and Y=t+1\n",
    "look_back = 1\n",
    "trainX, trainY = create_dataset(train, look_back)\n",
    "testX, testY = create_dataset(test, look_back)"
   ]
  },
  {
   "cell_type": "code",
   "execution_count": 153,
   "id": "8461c0a0",
   "metadata": {},
   "outputs": [],
   "source": [
    "# reshape input to be [samples, time steps, features]\n",
    "trainX = np.reshape(trainX, (trainX.shape[0], 1, trainX.shape[1]))\n",
    "testX = np.reshape(testX, (testX.shape[0], 1, testX.shape[1]))"
   ]
  },
  {
   "cell_type": "markdown",
   "id": "75ae7a1d",
   "metadata": {},
   "source": [
    "not able to run below; \n",
    "doube it's going to be good anyway;\n",
    "maybe separate into multiple series by Complait Type, and then do ts prediction separately?"
   ]
  },
  {
   "cell_type": "code",
   "execution_count": 158,
   "id": "9233b555",
   "metadata": {},
   "outputs": [],
   "source": [
    "from tensorflow.keras.layers import LSTM"
   ]
  },
  {
   "cell_type": "code",
   "execution_count": null,
   "id": "c86d5404",
   "metadata": {},
   "outputs": [],
   "source": [
    "model = Sequential()\n",
    "model.add(LSTM(4, input_shape=(1, look_back)))\n",
    "model.add(Dense(1))\n",
    "model.compile(loss='mean_squared_error', optimizer='adam')\n",
    "model.fit(trainX, trainY, epochs=100, batch_size=1, verbose=2)"
   ]
  },
  {
   "cell_type": "code",
   "execution_count": null,
   "id": "461d96fc",
   "metadata": {},
   "outputs": [],
   "source": []
  }
 ],
 "metadata": {
  "kernelspec": {
   "display_name": "Python 3 (ipykernel)",
   "language": "python",
   "name": "python3"
  },
  "language_info": {
   "codemirror_mode": {
    "name": "ipython",
    "version": 3
   },
   "file_extension": ".py",
   "mimetype": "text/x-python",
   "name": "python",
   "nbconvert_exporter": "python",
   "pygments_lexer": "ipython3",
   "version": "3.7.11"
  }
 },
 "nbformat": 4,
 "nbformat_minor": 5
}
